{
 "cells": [
  {
   "cell_type": "markdown",
   "metadata": {},
   "source": []
  },
  {
   "cell_type": "code",
   "execution_count": 2,
   "metadata": {},
   "outputs": [],
   "source": [
    "import pandas as pd\n",
    "import csv"
   ]
  },
  {
   "cell_type": "code",
   "execution_count": 2,
   "metadata": {},
   "outputs": [
    {
     "name": "stdout",
     "output_type": "stream",
     "text": [
      "Number of emails during the period: 132\n"
     ]
    }
   ],
   "source": [
    "import pandas as pd\n",
    "import datetime\n",
    "\n",
    "# Load your dataset \n",
    "df = pd.read_csv('~/Downloads/Farsi-emails.csv')\n",
    "\n",
    "# Convert datetime column to datetime type\n",
    "df['datetime'] = pd.to_datetime(df['datetime'])\n",
    "\n",
    "# Define the date range\n",
    "start_date = datetime.datetime(2021, 9, 27, 0, 0, 0)\n",
    "end_date = datetime.datetime(2021, 9, 30, 23, 59, 59)\n",
    "\n",
    "# Filter the dataframe based on the date range\n",
    "filtered_df = df[(df['datetime'] >= start_date) & (df['datetime'] <= end_date)].copy()\n",
    "\n",
    "# Remove rows containing specific text\n",
    "filtered_df.loc[:, 'full_text'] = filtered_df['full_text'].astype(str)\n",
    "filtered_df = filtered_df[~filtered_df['full_text'].str.contains('Your Zimbra Mailbox Has Exceeded It Quota/')]\n",
    "\n",
    "# Function to format the row as required\n",
    "def format_row(row):\n",
    "    try:\n",
    "        frm = ', '.join([f\"name: {d['name']}, email: {d['email']}\" for d in eval(row['frm'])])\n",
    "        too = ', '.join([f\"name: {d['name']}, email: {d['email']}\" for d in eval(row['too'])])\n",
    "    except:\n",
    "        frm = 'Invalid format'\n",
    "        too = 'Invalid format'\n",
    "    formatted_text = (\n",
    "        f\"ID: {row['ID']}\\n\"\n",
    "        f\"Date: {row['datetime']}\\n\"\n",
    "        f\"From: {frm}\\n\"\n",
    "        f\"To: {too}\\n\\n\"\n",
    "        f\"Subject: {row['subject']}\\n\\n\"\n",
    "        f\"Full Text:\\n{row['full_text']}\"\n",
    "    )\n",
    "    return formatted_text\n",
    "\n",
    "# Apply the formatting function\n",
    "filtered_df['merged_column'] = filtered_df.apply(format_row, axis=1)\n",
    "\n",
    "# Save to a single-column CSV\n",
    "single_column_filtered_df = filtered_df[['merged_column']]\n",
    "single_column_filtered_df.to_csv('new_single_column_filtered.csv', index=False)\n",
    "\n",
    "# Output the number of emails during the period\n",
    "num_emails = filtered_df.shape[0]\n",
    "print(\"Number of emails during the period:\", num_emails)\n"
   ]
  },
  {
   "cell_type": "code",
   "execution_count": 3,
   "metadata": {},
   "outputs": [
    {
     "name": "stdout",
     "output_type": "stream",
     "text": [
      "DOCX files created in /home/pansear/Downloads/farsi-emails\n"
     ]
    }
   ],
   "source": [
    "import pandas as pd\n",
    "import os\n",
    "from docx import Document\n",
    "\n",
    "# Load the single column CSV file\n",
    "df = single_column_filtered_df\n",
    "\n",
    "# Define the output directory\n",
    "output_dir = os.path.expanduser('~/Downloads/farsi-emails')\n",
    "os.makedirs(output_dir, exist_ok=True)\n",
    "\n",
    "# Function to create a DOCX file for each row\n",
    "def create_docx(row):\n",
    "    # Create a new Document\n",
    "    doc = Document()\n",
    "    \n",
    "    # Add the content to the Document\n",
    "    doc.add_paragraph(row['merged_column'])\n",
    "    \n",
    "    # Extract the ID from the merged column\n",
    "    email_id = row['merged_column'].split('\\n')[0].split(': ')[1]\n",
    "    \n",
    "    # Save the Document with the ID as the filename\n",
    "    filename = \"ID_\" + email_id + \".docx\"\n",
    "    doc.save(os.path.join(output_dir, filename))\n",
    "\n",
    "# Apply the function to each row\n",
    "df.apply(create_docx, axis=1)\n",
    "\n",
    "print(f\"DOCX files created in {output_dir}\")\n"
   ]
  }
 ],
 "metadata": {
  "kernelspec": {
   "display_name": "guidance",
   "language": "python",
   "name": "python3"
  },
  "language_info": {
   "codemirror_mode": {
    "name": "ipython",
    "version": 3
   },
   "file_extension": ".py",
   "mimetype": "text/x-python",
   "name": "python",
   "nbconvert_exporter": "python",
   "pygments_lexer": "ipython3",
   "version": "3.11.7"
  }
 },
 "nbformat": 4,
 "nbformat_minor": 2
}
